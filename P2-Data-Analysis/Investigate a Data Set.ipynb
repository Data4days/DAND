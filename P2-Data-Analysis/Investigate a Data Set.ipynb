{
 "cells": [
  {
   "cell_type": "markdown",
   "metadata": {},
   "source": [
    "# Udacity Data Analyst Nanodegree\n",
    "\n",
    "## P2: Investigate a Dataset\n",
    "\n",
    "By: Adam Friedman\n",
    "\n",
    "March 2017\n",
    "\n",
    "----------------------\n",
    "\n",
    "#### Data set:\n",
    "[Lahman's Baseball Database](http://www.seanlahman.com/baseball-archive/statistics/)\n",
    "\n",
    "#### Question:\n",
    "Do left handed and ambidextrous batters have an advantage over right handed batters?\n",
    "\n",
    "----------------------\n",
    "\n",
    "To define an advantage, I'll be using 3 different batting metrics:\n",
    "\n",
    "* Batting average = number of hits divided by number of at bats<br/>\n",
    "* Slugging percentage = total bases divided by at bats<br/>\n",
    "* Home runs = number of home runs hit divided by at bats\n",
    "\n",
    "Terminology:\n",
    "\n",
    "* <a href=\"https://en.wikipedia.org/wiki/Hit_(baseball)\">Hit</a> -  a hit is credited to a batter when the batter reaches first base after hitting the ball into [fair](https://en.wikipedia.org/wiki/Fair_ball) territory, without the benefit of an <a href=\"https://en.wikipedia.org/wiki/Error_(baseball)\">error</a> or a [fielder's choice](https://en.wikipedia.org/wiki/Fielder%27s_choice \"fielder's choice\")\n",
    "* At Bat - a batter's turn against a pitcher with a few [exceptions](https://en.wikipedia.org/wiki/At_bat)\n",
    "* [Home Run](https://en.wikipedia.org/wiki/Home_run) - a home run is scored when the batter circles all the bases and reach home safely in one play. This usually occurs when the ball is hit over the outfield fence\n",
    "\n",
    "\n",
    "For this assignment I'm using the 2016 version of Lahman's Baseball Database, available [here](http://www.seanlahman.com/baseball-archive/statistics/).\n",
    "\n",
    "Notation for the type of batter:\n",
    "* R - right handed batter\n",
    "* L - left handed batter\n",
    "* B - bats with both hands (ambidextrous)\n"
   ]
  },
  {
   "cell_type": "code",
   "execution_count": 2,
   "metadata": {
    "collapsed": false
   },
   "outputs": [
    {
     "name": "stdout",
     "output_type": "stream",
     "text": [
      "Number of duplicate player IDs:\n",
      "0\n",
      "\n",
      "Missing values per column:\n",
      "\n",
      "playerID          0\n",
      "yearID            0\n",
      "stint             0\n",
      "teamID            0\n",
      "lgID            737\n",
      "G                 0\n",
      "AB                0\n",
      "R                 0\n",
      "H                 0\n",
      "2B                0\n",
      "3B                0\n",
      "HR                0\n",
      "RBI             424\n",
      "SB             1300\n",
      "CS            23456\n",
      "BB                0\n",
      "SO             7838\n",
      "IBB           36565\n",
      "HBP            2810\n",
      "SH             6338\n",
      "SF            36034\n",
      "GIDP          26110\n",
      "bats           1922\n",
      "YearPlayer        0\n",
      "dtype: int64\n"
     ]
    }
   ],
   "source": [
    "import numpy as np\n",
    "import pandas as pd\n",
    "import matplotlib.pyplot as plt\n",
    "import seaborn as sns\n",
    "from scipy.stats import ttest_ind\n",
    "%matplotlib inline\n",
    "\n",
    "#import the relevant information from the csv files\n",
    "master_df = pd.read_csv(\"Master.csv\", usecols=['playerID','bats'])\n",
    "batting_df = pd.read_csv(\"Batting.csv\")\n",
    "\n",
    "#Merge the 2 tables by playerID\n",
    "project_df = batting_df.merge(master_df, on='playerID', how='left')\n",
    "\n",
    "#Check for duplicate player IDs\n",
    "project_df['YearPlayer'] = project_df['yearID'].astype(str) + project_df['playerID']+project_df['stint'].astype(str)\n",
    "print('Number of duplicate player IDs:')\n",
    "print(project_df['YearPlayer'].nunique()-project_df['YearPlayer'].count())\n",
    "\n",
    "#Check for Nan values\n",
    "print(\"\")\n",
    "print(\"Missing values per column:\")\n",
    "print(\"\")\n",
    "print(project_df.isnull().sum())\n"
   ]
  },
  {
   "cell_type": "markdown",
   "metadata": {},
   "source": [
    "Taking the yearID, playerID and stint into account, there has been no duplication of player's batting stats.\n",
    "\n",
    "For this analysis playerID, yearID, AB, H, 2B, 3B, HR and bats will be used. Out of all of these columns, only bats has NaN values. Let's have a closer look to understand the data in the bats column"
   ]
  },
  {
   "cell_type": "code",
   "execution_count": 3,
   "metadata": {
    "collapsed": false
   },
   "outputs": [
    {
     "data": {
      "text/html": [
       "<div>\n",
       "<table border=\"1\" class=\"dataframe\">\n",
       "  <thead>\n",
       "    <tr style=\"text-align: right;\">\n",
       "      <th>Decade</th>\n",
       "      <th>1800s</th>\n",
       "      <th>1900's</th>\n",
       "      <th>1910's</th>\n",
       "      <th>1920's</th>\n",
       "      <th>1930's</th>\n",
       "      <th>1940's</th>\n",
       "      <th>1950's</th>\n",
       "      <th>1960's</th>\n",
       "      <th>1970's</th>\n",
       "      <th>1980's</th>\n",
       "      <th>1990's</th>\n",
       "      <th>2000s</th>\n",
       "      <th>2010s</th>\n",
       "      <th>All</th>\n",
       "    </tr>\n",
       "    <tr>\n",
       "      <th>bats</th>\n",
       "      <th></th>\n",
       "      <th></th>\n",
       "      <th></th>\n",
       "      <th></th>\n",
       "      <th></th>\n",
       "      <th></th>\n",
       "      <th></th>\n",
       "      <th></th>\n",
       "      <th></th>\n",
       "      <th></th>\n",
       "      <th></th>\n",
       "      <th></th>\n",
       "      <th></th>\n",
       "      <th></th>\n",
       "    </tr>\n",
       "  </thead>\n",
       "  <tbody>\n",
       "    <tr>\n",
       "      <th>B</th>\n",
       "      <td>347.0</td>\n",
       "      <td>321.0</td>\n",
       "      <td>454.0</td>\n",
       "      <td>314.0</td>\n",
       "      <td>215.0</td>\n",
       "      <td>236.0</td>\n",
       "      <td>233.0</td>\n",
       "      <td>412.0</td>\n",
       "      <td>740.0</td>\n",
       "      <td>1026.0</td>\n",
       "      <td>1229.0</td>\n",
       "      <td>1203.0</td>\n",
       "      <td>795.0</td>\n",
       "      <td>7525.0</td>\n",
       "    </tr>\n",
       "    <tr>\n",
       "      <th>L</th>\n",
       "      <td>1532.0</td>\n",
       "      <td>1152.0</td>\n",
       "      <td>1650.0</td>\n",
       "      <td>1620.0</td>\n",
       "      <td>1516.0</td>\n",
       "      <td>1672.0</td>\n",
       "      <td>1875.0</td>\n",
       "      <td>2156.0</td>\n",
       "      <td>2572.0</td>\n",
       "      <td>2873.0</td>\n",
       "      <td>3204.0</td>\n",
       "      <td>3793.0</td>\n",
       "      <td>2931.0</td>\n",
       "      <td>28546.0</td>\n",
       "    </tr>\n",
       "    <tr>\n",
       "      <th>No Val</th>\n",
       "      <td>1662.0</td>\n",
       "      <td>225.0</td>\n",
       "      <td>33.0</td>\n",
       "      <td>2.0</td>\n",
       "      <td>NaN</td>\n",
       "      <td>NaN</td>\n",
       "      <td>NaN</td>\n",
       "      <td>NaN</td>\n",
       "      <td>NaN</td>\n",
       "      <td>NaN</td>\n",
       "      <td>NaN</td>\n",
       "      <td>NaN</td>\n",
       "      <td>NaN</td>\n",
       "      <td>1922.0</td>\n",
       "    </tr>\n",
       "    <tr>\n",
       "      <th>R</th>\n",
       "      <td>4361.0</td>\n",
       "      <td>2473.0</td>\n",
       "      <td>3928.0</td>\n",
       "      <td>3373.0</td>\n",
       "      <td>3507.0</td>\n",
       "      <td>3869.0</td>\n",
       "      <td>4040.0</td>\n",
       "      <td>4991.0</td>\n",
       "      <td>5882.0</td>\n",
       "      <td>6148.0</td>\n",
       "      <td>7407.0</td>\n",
       "      <td>8604.0</td>\n",
       "      <td>6240.0</td>\n",
       "      <td>64823.0</td>\n",
       "    </tr>\n",
       "    <tr>\n",
       "      <th>All</th>\n",
       "      <td>7902.0</td>\n",
       "      <td>4171.0</td>\n",
       "      <td>6065.0</td>\n",
       "      <td>5309.0</td>\n",
       "      <td>5238.0</td>\n",
       "      <td>5777.0</td>\n",
       "      <td>6148.0</td>\n",
       "      <td>7559.0</td>\n",
       "      <td>9194.0</td>\n",
       "      <td>10047.0</td>\n",
       "      <td>11840.0</td>\n",
       "      <td>13600.0</td>\n",
       "      <td>9966.0</td>\n",
       "      <td>102816.0</td>\n",
       "    </tr>\n",
       "  </tbody>\n",
       "</table>\n",
       "</div>"
      ],
      "text/plain": [
       "Decade   1800s  1900's  1910's  1920's  1930's  1940's  1950's  1960's  \\\n",
       "bats                                                                     \n",
       "B        347.0   321.0   454.0   314.0   215.0   236.0   233.0   412.0   \n",
       "L       1532.0  1152.0  1650.0  1620.0  1516.0  1672.0  1875.0  2156.0   \n",
       "No Val  1662.0   225.0    33.0     2.0     NaN     NaN     NaN     NaN   \n",
       "R       4361.0  2473.0  3928.0  3373.0  3507.0  3869.0  4040.0  4991.0   \n",
       "All     7902.0  4171.0  6065.0  5309.0  5238.0  5777.0  6148.0  7559.0   \n",
       "\n",
       "Decade  1970's   1980's   1990's    2000s   2010s       All  \n",
       "bats                                                         \n",
       "B        740.0   1026.0   1229.0   1203.0   795.0    7525.0  \n",
       "L       2572.0   2873.0   3204.0   3793.0  2931.0   28546.0  \n",
       "No Val     NaN      NaN      NaN      NaN     NaN    1922.0  \n",
       "R       5882.0   6148.0   7407.0   8604.0  6240.0   64823.0  \n",
       "All     9194.0  10047.0  11840.0  13600.0  9966.0  102816.0  "
      ]
     },
     "execution_count": 3,
     "metadata": {},
     "output_type": "execute_result"
    }
   ],
   "source": [
    "def decade_assign(year):\n",
    "    if year < 1900:\n",
    "        return '1800s'\n",
    "    elif year >= 2010:\n",
    "        return '2010s'\n",
    "    elif year >= 2000:\n",
    "        return '2000s'\n",
    "    else:\n",
    "        return \"19\"+str(year)[2]+\"0's\"\n",
    "\n",
    "project_df['Decade'] = project_df['yearID'].apply(decade_assign)\n",
    "project_df['bats'].fillna('No Val',inplace='true')\n",
    "\n",
    "pd.pivot_table(project_df,index=['bats'],columns='Decade',values='playerID',aggfunc='count',dropna=False,margins=True)\n"
   ]
  },
  {
   "cell_type": "markdown",
   "metadata": {},
   "source": [
    "Once the values have been broken down per decade, we can see that the 'bats' column has many missing entries before 1900, but from 1930 every player has been assigned a value. We can also see that more players are recorded as ambidextrous (B) in recent years compared to 100 years ago even when taking the growth of the total number of players per decade into account.\n",
    "\n",
    "This leads to the question of what time frame should be looked at for this analysis. Since the start of Major League Baseball there have been many eras of the game which have been brought on by many factors e.g. rule changes. In addition, from examining the table above, either more left handed and ambidextrous people have joined the MLB or there has been a change in the way the data is recorded.\n",
    "\n",
    "There is no concensus as to when the modern era of baseball started, so I have read expert opinions and for the purpose of this report I have chosen 1969 as the start of the modern era. Some of the rule changes in that year include lowering the pitching mound and reducing the strikezone, therefore making the game more offense orientated. The following links contain more information about why 1969 can be argued as the start of the modern era:\n",
    "http://www.espn.com/mlb/columns/story?id=2471349&columnist=stark_jayson <br/>\n",
    "http://www.huffingtonpost.com/quora/what-are-the-major-eras-o_b_3547814.html\n"
   ]
  },
  {
   "cell_type": "code",
   "execution_count": 4,
   "metadata": {
    "collapsed": true
   },
   "outputs": [],
   "source": [
    "#Limit the data to batting appearances from 1969 onwards\n",
    "project_df = project_df[project_df['yearID'] >= 1969]\n",
    "\n",
    "#The data also needs to be limited to players with At Bats >= 1 to remove all players in the data who never batted\n",
    "project_df = project_df[project_df['AB'] >= 1]"
   ]
  },
  {
   "cell_type": "markdown",
   "metadata": {},
   "source": [
    "Studies suggest that about 10% of the world is left handed and about 1% is ambidextrous (source: https://en.wikipedia.org/wiki/Handedness). It looks like far more MLB players are using their left hand. Let's investigate further, isolating the percentages for 2016 only:"
   ]
  },
  {
   "cell_type": "code",
   "execution_count": 5,
   "metadata": {
    "collapsed": false
   },
   "outputs": [
    {
     "data": {
      "text/html": [
       "<div>\n",
       "<table border=\"1\" class=\"dataframe\">\n",
       "  <thead>\n",
       "    <tr style=\"text-align: right;\">\n",
       "      <th></th>\n",
       "      <th>playerID</th>\n",
       "    </tr>\n",
       "    <tr>\n",
       "      <th>bats</th>\n",
       "      <th></th>\n",
       "    </tr>\n",
       "  </thead>\n",
       "  <tbody>\n",
       "    <tr>\n",
       "      <th>B</th>\n",
       "      <td>9.6%</td>\n",
       "    </tr>\n",
       "    <tr>\n",
       "      <th>L</th>\n",
       "      <td>28.6%</td>\n",
       "    </tr>\n",
       "    <tr>\n",
       "      <th>R</th>\n",
       "      <td>61.8%</td>\n",
       "    </tr>\n",
       "  </tbody>\n",
       "</table>\n",
       "</div>"
      ],
      "text/plain": [
       "     playerID\n",
       "bats         \n",
       "B        9.6%\n",
       "L       28.6%\n",
       "R       61.8%"
      ]
     },
     "execution_count": 5,
     "metadata": {},
     "output_type": "execute_result"
    }
   ],
   "source": [
    "bats_sum = project_df[project_df['yearID']==2016].groupby(by='bats').playerID.nunique()\n",
    "bats_perc = (bats_sum/bats_sum.sum()*100).round(1)\n",
    "pd.DataFrame(bats_perc.astype(str)+'%')\n"
   ]
  },
  {
   "cell_type": "markdown",
   "metadata": {},
   "source": [
    "Although there are instances where players are represented multiple times in this table, the percentages are far from those of the general population. The next step is to get an idea of each player's batting stats over the span of their careers. This requires some data aggregation:"
   ]
  },
  {
   "cell_type": "code",
   "execution_count": 6,
   "metadata": {
    "collapsed": false
   },
   "outputs": [
    {
     "data": {
      "text/html": [
       "<div>\n",
       "<table border=\"1\" class=\"dataframe\">\n",
       "  <thead>\n",
       "    <tr style=\"text-align: right;\">\n",
       "      <th></th>\n",
       "      <th>playerID</th>\n",
       "      <th>bats</th>\n",
       "      <th>H</th>\n",
       "      <th>2B</th>\n",
       "      <th>3B</th>\n",
       "      <th>HR</th>\n",
       "      <th>AB</th>\n",
       "      <th>HR/AB</th>\n",
       "      <th>Bavg</th>\n",
       "      <th>1B</th>\n",
       "      <th>SPerc</th>\n",
       "    </tr>\n",
       "  </thead>\n",
       "  <tbody>\n",
       "    <tr>\n",
       "      <th>4832</th>\n",
       "      <td>munnisc01</td>\n",
       "      <td>R</td>\n",
       "      <td>1</td>\n",
       "      <td>0</td>\n",
       "      <td>1</td>\n",
       "      <td>0</td>\n",
       "      <td>1</td>\n",
       "      <td>0.0</td>\n",
       "      <td>1.0</td>\n",
       "      <td>0</td>\n",
       "      <td>3.0</td>\n",
       "    </tr>\n",
       "    <tr>\n",
       "      <th>5926</th>\n",
       "      <td>rodried01</td>\n",
       "      <td>R</td>\n",
       "      <td>1</td>\n",
       "      <td>0</td>\n",
       "      <td>1</td>\n",
       "      <td>0</td>\n",
       "      <td>1</td>\n",
       "      <td>0.0</td>\n",
       "      <td>1.0</td>\n",
       "      <td>0</td>\n",
       "      <td>3.0</td>\n",
       "    </tr>\n",
       "    <tr>\n",
       "      <th>1050</th>\n",
       "      <td>cammaer01</td>\n",
       "      <td>R</td>\n",
       "      <td>1</td>\n",
       "      <td>0</td>\n",
       "      <td>1</td>\n",
       "      <td>0</td>\n",
       "      <td>1</td>\n",
       "      <td>0.0</td>\n",
       "      <td>1.0</td>\n",
       "      <td>0</td>\n",
       "      <td>3.0</td>\n",
       "    </tr>\n",
       "    <tr>\n",
       "      <th>7607</th>\n",
       "      <td>yanes01</td>\n",
       "      <td>R</td>\n",
       "      <td>2</td>\n",
       "      <td>0</td>\n",
       "      <td>0</td>\n",
       "      <td>1</td>\n",
       "      <td>2</td>\n",
       "      <td>0.5</td>\n",
       "      <td>1.0</td>\n",
       "      <td>1</td>\n",
       "      <td>2.5</td>\n",
       "    </tr>\n",
       "    <tr>\n",
       "      <th>4130</th>\n",
       "      <td>lyonbr01</td>\n",
       "      <td>R</td>\n",
       "      <td>1</td>\n",
       "      <td>1</td>\n",
       "      <td>0</td>\n",
       "      <td>0</td>\n",
       "      <td>1</td>\n",
       "      <td>0.0</td>\n",
       "      <td>1.0</td>\n",
       "      <td>0</td>\n",
       "      <td>2.0</td>\n",
       "    </tr>\n",
       "  </tbody>\n",
       "</table>\n",
       "</div>"
      ],
      "text/plain": [
       "       playerID bats  H  2B  3B  HR  AB  HR/AB  Bavg  1B  SPerc\n",
       "4832  munnisc01    R  1   0   1   0   1    0.0   1.0   0    3.0\n",
       "5926  rodried01    R  1   0   1   0   1    0.0   1.0   0    3.0\n",
       "1050  cammaer01    R  1   0   1   0   1    0.0   1.0   0    3.0\n",
       "7607    yanes01    R  2   0   0   1   2    0.5   1.0   1    2.5\n",
       "4130   lyonbr01    R  1   1   0   0   1    0.0   1.0   0    2.0"
      ]
     },
     "execution_count": 6,
     "metadata": {},
     "output_type": "execute_result"
    }
   ],
   "source": [
    "#Each row currently represents a player's stats per stint per year. The data needs to be aggregated in order show\n",
    "#each player's stats for their whole MLB career\n",
    "batter_stats = project_df[['H','2B','3B','HR','AB','playerID','bats']].groupby(by=['playerID','bats'],as_index=False).sum()\n",
    "\n",
    "#Set up the batting measurements\n",
    "batter_stats['HR/AB'] = batter_stats['HR']/batter_stats['AB']\n",
    "batter_stats['Bavg'] = batter_stats['H']/batter_stats['AB']\n",
    "batter_stats['1B'] = batter_stats['H'] - batter_stats['2B'] - batter_stats['3B'] - batter_stats['HR']\n",
    "batter_stats['SPerc'] = (batter_stats['1B'] + (batter_stats['2B']*2) + (batter_stats['3B']*3) + (batter_stats['HR']*4)) / batter_stats['AB']\n",
    "\n",
    "batter_stats.sort_values(by = 'SPerc', ascending = False).head()"
   ]
  },
  {
   "cell_type": "markdown",
   "metadata": {},
   "source": [
    "Sorting the data to show the top performers by Slugging %, it's clear that theres an issue relating to batters with few performances. Looking at the top 5 in the table above, we're not looking at the best batters in modern baseball. Instead, we have extreme outliers who only faced one or two pitches. Although we have to assume that the numbers recorded for these outliers are legitimate, it calls into question the minimum number of pitches a batter should face in order to gauge their skill. I propose to remove the batters who have recorded At Bats which fall into the lower quartile."
   ]
  },
  {
   "cell_type": "code",
   "execution_count": 7,
   "metadata": {
    "collapsed": false
   },
   "outputs": [
    {
     "data": {
      "text/plain": [
       "count     7677.000000\n",
       "mean       933.407711\n",
       "std       1752.341612\n",
       "min          1.000000\n",
       "25%         14.000000\n",
       "50%        116.000000\n",
       "75%        886.000000\n",
       "max      11551.000000\n",
       "Name: AB, dtype: float64"
      ]
     },
     "execution_count": 7,
     "metadata": {},
     "output_type": "execute_result"
    }
   ],
   "source": [
    "batter_stats['AB'].describe()"
   ]
  },
  {
   "cell_type": "code",
   "execution_count": 36,
   "metadata": {
    "collapsed": false
   },
   "outputs": [
    {
     "data": {
      "text/plain": [
       "<matplotlib.text.Text at 0xe91ea20>"
      ]
     },
     "execution_count": 36,
     "metadata": {},
     "output_type": "execute_result"
    },
    {
     "data": {
      "image/png": "[encoded data removed]",
      "text/plain": [
       "<matplotlib.figure.Figure at 0xe91e518>"
      ]
     },
     "metadata": {},
     "output_type": "display_data"
    }
   ],
   "source": [
    "#Remove the batters in the lowest quartile for AB\n",
    "batter_stats = batter_stats[batter_stats['AB'] > 14]\n",
    "\n",
    "#Graph a boxplot based on Slugging %\n",
    "g = sns.boxplot(data=batter_stats, y='SPerc',x='bats',fliersize=2, width = 0.5)\n",
    "g.set(xlabel='Batter Type', ylabel=\"Slugging %\")\n",
    "plt.suptitle('Box plot of slugging percentages per batter type')"
   ]
  },
  {
   "cell_type": "markdown",
   "metadata": {},
   "source": [
    "Although there are still outliers, the range of the Slugging % values has decreased by 66%. Sometimes zero values can be a concern, but in this case there were players who faced multiple pitches but never scored any 'hits', so these values must be kept."
   ]
  },
  {
   "cell_type": "code",
   "execution_count": 37,
   "metadata": {
    "collapsed": false
   },
   "outputs": [
    {
     "data": {
      "image/png": "[encoded data removed]",
      "text/plain": [
       "<matplotlib.figure.Figure at 0x12008240>"
      ]
     },
     "metadata": {},
     "output_type": "display_data"
    }
   ],
   "source": [
    "s = sns.lmplot(data=batter_stats,x='AB', y='HR',hue='bats')\n",
    "s.set(ylim=(0,900))\n",
    "plt.suptitle(\"Dispersion of each player's number of home runs per at bat\")\n",
    "plt.subplots_adjust(top=0.93)"
   ]
  },
  {
   "cell_type": "markdown",
   "metadata": {},
   "source": [
    "The scatter plot illustrates the wide range of the number of home runs scored by different batters. At around 8000 At Bats, there are instances where batters have hit about 550 home runs in their career, but there are also batters who have only hit about 50 homeruns. I'm making the assumption that to reach 8000 At Bats the batter has to be a good player, otherwise the coach wouldn't have afforded him so many opportunities. We can therefore deduce that being a good player who's very experienced, doesn't guarantee homeruns!"
   ]
  },
  {
   "cell_type": "code",
   "execution_count": 10,
   "metadata": {
    "collapsed": false
   },
   "outputs": [
    {
     "data": {
      "text/html": [
       "<div>\n",
       "<table border=\"1\" class=\"dataframe\">\n",
       "  <thead>\n",
       "    <tr style=\"text-align: right;\">\n",
       "      <th>bats</th>\n",
       "      <th>B</th>\n",
       "      <th>L</th>\n",
       "      <th>R</th>\n",
       "    </tr>\n",
       "  </thead>\n",
       "  <tbody>\n",
       "    <tr>\n",
       "      <th>HR/AB</th>\n",
       "      <td>0.014</td>\n",
       "      <td>0.017</td>\n",
       "      <td>0.016</td>\n",
       "    </tr>\n",
       "    <tr>\n",
       "      <th>Batting Average</th>\n",
       "      <td>0.229</td>\n",
       "      <td>0.218</td>\n",
       "      <td>0.201</td>\n",
       "    </tr>\n",
       "    <tr>\n",
       "      <th>Slugging %</th>\n",
       "      <td>0.323</td>\n",
       "      <td>0.318</td>\n",
       "      <td>0.291</td>\n",
       "    </tr>\n",
       "  </tbody>\n",
       "</table>\n",
       "</div>"
      ],
      "text/plain": [
       "bats                 B      L      R\n",
       "HR/AB            0.014  0.017  0.016\n",
       "Batting Average  0.229  0.218  0.201\n",
       "Slugging %       0.323  0.318  0.291"
      ]
     },
     "execution_count": 10,
     "metadata": {},
     "output_type": "execute_result"
    }
   ],
   "source": [
    "means_summary = batter_stats[['HR/AB','Bavg','SPerc','bats']].groupby(by='bats',).mean().transpose().round(3)\n",
    "means_summary = means_summary.rename(index={'Bavg': 'Batting Average','SPerc':'Slugging %'})\n",
    "means_summary"
   ]
  },
  {
   "cell_type": "markdown",
   "metadata": {},
   "source": [
    "It seems like the means do differ between the groups of batters. To find out whether the differences are statistically significant, I will conduct two tailed t-tests with significance levels of 1%. This equates to t-critical values of (2.576, -2.576).\n",
    "\n",
    "For each test, the null hypothesis (H0) will be: the population mean of group1 (μ1) is equal to the population mean of group2 (μ2). The alternate hypothesis (H1) will be: the population mean of group1 (μ1) is significantly different to the population mean of group2 (μ2)."
   ]
  },
  {
   "cell_type": "code",
   "execution_count": 11,
   "metadata": {
    "collapsed": false
   },
   "outputs": [
    {
     "name": "stdout",
     "output_type": "stream",
     "text": [
      "Batting Average R vs L\n",
      "The t-statistic is -8.5025 and the pvalue is 0.0000\n",
      "Batting Average R vs B\n",
      "The t-statistic is -11.5613 and the pvalue is 0.0000\n",
      "Batting Average L vs B\n",
      "The t-statistic is -4.2723 and the pvalue is 0.0000\n",
      "\n",
      "Slugging Percentage R vs L\n",
      "The t-statistic is -7.5756 and the pvalue is 0.0000\n",
      "Slugging Percentage R vs B\n",
      "The t-statistic is -7.4616 and the pvalue is 0.0000\n",
      "Slugging Percentage L vs B\n",
      "The t-statistic is -1.0133 and the pvalue is 0.3111\n",
      "\n",
      "HR/AB R vs L\n",
      "The t-statistic is -3.0189 and the pvalue is 0.0026\n",
      "HR/AB R vs B\n",
      "The t-statistic is 3.2077 and the pvalue is 0.0014\n",
      "HR/AB L vs B\n",
      "The t-statistic is 5.1245 and the pvalue is 0.0000\n"
     ]
    }
   ],
   "source": [
    "res_str = 'The t-statistic is %6.4f and the pvalue is %6.4f'\n",
    "\n",
    "#Batting average t tests\n",
    "bavg_r = batter_stats[batter_stats['bats']=='R']['Bavg']\n",
    "bavg_l = batter_stats[batter_stats['bats']=='L']['Bavg']\n",
    "bavg_b = batter_stats[batter_stats['bats']=='B']['Bavg']\n",
    "\n",
    "print('Batting Average R vs L')\n",
    "tt,pval = ttest_ind(bavg_r,bavg_l,equal_var=False)\n",
    "print(res_str %(tt,pval))\n",
    "\n",
    "print('Batting Average R vs B')\n",
    "tt,pval = ttest_ind(bavg_r,bavg_b,equal_var=False)\n",
    "print(res_str %(tt,pval))\n",
    "\n",
    "print('Batting Average L vs B')\n",
    "tt,pval = ttest_ind(bavg_l,bavg_b,equal_var=False)\n",
    "print(res_str %(tt,pval))\n",
    "\n",
    "print(\"\")\n",
    "\n",
    "\n",
    "#Slugging Percentage t tests\n",
    "sperc_r = batter_stats[batter_stats['bats']=='R']['SPerc']\n",
    "sperc_l = batter_stats[batter_stats['bats']=='L']['SPerc']\n",
    "sperc_b = batter_stats[batter_stats['bats']=='B']['SPerc']\n",
    "\n",
    "print('Slugging Percentage R vs L')\n",
    "tt,pval = ttest_ind(sperc_r,sperc_l,equal_var=False)\n",
    "print(res_str %(tt,pval))\n",
    "print('Slugging Percentage R vs B')\n",
    "tt,pval = ttest_ind(sperc_r,sperc_b,equal_var=False)\n",
    "print(res_str %(tt,pval))\n",
    "print('Slugging Percentage L vs B')\n",
    "tt,pval = ttest_ind(sperc_l,sperc_b,equal_var=False)\n",
    "print(res_str %(tt,pval))\n",
    "\n",
    "\n",
    "print(\"\")\n",
    "\n",
    "#HR/AB t tests\n",
    "hr_r = batter_stats[batter_stats['bats']=='R']['HR/AB']\n",
    "hr_l = batter_stats[batter_stats['bats']=='L']['HR/AB']\n",
    "hr_b = batter_stats[batter_stats['bats']=='B']['HR/AB']\n",
    "\n",
    "print('HR/AB R vs L')\n",
    "tt,pval = ttest_ind(hr_r,hr_l,equal_var=False)\n",
    "print(res_str %(tt,pval))\n",
    "print('HR/AB R vs B')\n",
    "tt,pval = ttest_ind(hr_r,hr_b,equal_var=False)\n",
    "print(res_str %(tt,pval))\n",
    "print('HR/AB L vs B')\n",
    "tt,pval = ttest_ind(hr_l,hr_b,equal_var=False)\n",
    "print(res_str %(tt,pval))"
   ]
  },
  {
   "cell_type": "markdown",
   "metadata": {},
   "source": [
    "## Conclusion\n",
    "\n",
    "In all 3 of the R vs L tests the null hypotheses can be rejected. Left handed batters do seem to have an advantage over right handed batters in baseball.\n",
    "\n",
    "The null hypotheses can also be rejected to show that ambidextrous hitters have better batting averages than left handed hitters but also fewer homeruns per at bat than left handed hitters.\n",
    "\n",
    "There are too many factors at play to pinpoint every reason why left handed batters have an advantage. Some common theories are:\n",
    "* Left handed batters stand a few steps closer to first base and the momentum from the shot helps them run in that direction\n",
    "* A left handed batter facing a right handed pitcher has a clearer view of the ball as it travels towards him compared to the view of a right handed batter<br/>\n",
    "[source](http://www.livescience.com/2665-baseball-rigged-lefties.html)\n",
    "\n",
    "The clearer view of the ball theory can also explain why ambidextrous hitters have the best batting average. Once the pitcher has declared which hand he will pitch from, the batter can then choose the opposite stance, thus giving himself the clearest view of the ball.\n",
    "\n",
    "Given the large difference between the percentage of MLB left handed batters and the percentage of left handed people in the general population, it also makes sense intuitively that lefties must have an advantage in order to create this difference in an *extremely* competitive environment.\n",
    "\n",
    "One must keep in mind that this analysis is limited to the years 1969 - 2016. The results could change depending on the definition of the modern era and thus the period of time analysed. Various rules implemented throughout the history of the game could have unequal consequences for the different batter types. There is also a data limitation with the ambidextrous batters because the data only shows how many at bats to count but not the split of at bats (and scoring data) between each batting stance.\n",
    "\n",
    "In order to delve deeper into the advantages and differences, more test statistics could be introduced in order to provide additional measures of performance for batting, pitching and fielding. Multiple statistics could be combined in a model to produce one overall measurement of a player's performance and this could give a better idea of a player's total value to their team. "
   ]
  },
  {
   "cell_type": "code",
   "execution_count": 12,
   "metadata": {
    "collapsed": false
   },
   "outputs": [
    {
     "data": {
      "text/plain": [
       "9"
      ]
     },
     "execution_count": 12,
     "metadata": {},
     "output_type": "execute_result"
    }
   ],
   "source": [
    "top20 = batter_stats[batter_stats['AB']>100][['playerID','Bavg','bats']].sort_values(by='Bavg',ascending=False).head(20)\n",
    "top20[top20['bats']=='L']['bats'].count()"
   ]
  },
  {
   "cell_type": "markdown",
   "metadata": {},
   "source": [
    "It should come as no surprise then that 9 out of the top 20 players ranked by batting average are lefties!"
   ]
  },
  {
   "cell_type": "code",
   "execution_count": null,
   "metadata": {
    "collapsed": true
   },
   "outputs": [],
   "source": []
  }
 ],
 "metadata": {
  "anaconda-cloud": {},
  "kernelspec": {
   "display_name": "Python [conda env:DAND]",
   "language": "python",
   "name": "conda-env-DAND-py"
  },
  "language_info": {
   "codemirror_mode": {
    "name": "ipython",
    "version": 2
   },
   "file_extension": ".py",
   "mimetype": "text/x-python",
   "name": "python",
   "nbconvert_exporter": "python",
   "pygments_lexer": "ipython2",
   "version": "2.7.12"
  }
 },
 "nbformat": 4,
 "nbformat_minor": 1
}
